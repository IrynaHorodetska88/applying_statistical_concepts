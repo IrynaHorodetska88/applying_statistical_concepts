{
 "cells": [
  {
   "cell_type": "markdown",
   "id": "7b0bcac6-5086-4f4e-928a-570a9ff7ae58",
   "metadata": {},
   "source": [
    "# Assignment 2"
   ]
  },
  {
   "cell_type": "markdown",
   "id": "5fce0350-2a17-4e93-8d4c-0b8748fdfc32",
   "metadata": {},
   "source": [
    "You only need to write one line of code for each question. When answering questions that ask you to identify or interpret something, the length of your response doesn’t matter. For example, if the answer is just ‘yes,’ ‘no,’ or a number, you can just give that answer without adding anything else.\n",
    "\n",
    "We will go through comparable code and concepts in the live learning session. If you run into trouble, start by using the help `help()` function in Python, to get information about the datasets and function in question. The internet is also a great resource when coding (though note that **no outside searches are required by the assignment!**). If you do incorporate code from the internet, please cite the source within your code (providing a URL is sufficient).\n",
    "\n",
    "Please bring questions that you cannot work out on your own to office hours, work periods or share with your peers on Slack. We will work with you through the issue."
   ]
  },
  {
   "cell_type": "markdown",
   "id": "5fc5001c-7715-4ebe-b0f7-e4bd04349629",
   "metadata": {},
   "source": [
    "### Linear Regression\n",
    "\n",
    "Let's set up our workspace and use the **Auto MPG dataset**. This dataset contains several features (such as horsepower, weight, displacement, and acceleration) and a target variable indicating the car's **miles per gallon (MPG)**.\n",
    "\n",
    "Here, we will model **MPG (continuous outcome)** based on the car's physical and performance characteristics."
   ]
  },
  {
   "cell_type": "code",
   "execution_count": 63,
   "id": "4a3485d6-ba58-4660-a983-5680821c5719",
   "metadata": {},
   "outputs": [],
   "source": [
    "# Import standard libraries\n",
    "import pandas as pd\n",
    "import numpy as np\n",
    "import matplotlib.pyplot as plt\n",
    "from sklearn.model_selection import train_test_split\n",
    "from sklearn.linear_model import LinearRegression\n",
    "from sklearn.metrics import mean_squared_error"
   ]
  },
  {
   "cell_type": "code",
   "execution_count": null,
   "id": "a431d282-f9ca-4d5d-8912-71ffc9d8ea19",
   "metadata": {},
   "outputs": [],
   "source": [
    "import seaborn as sns\n",
    "\n",
    "# Load the Auto MPG dataset\n",
    "mpg_data = sns.load_dataset('mpg')\n",
    "\n",
    "# Drop rows with missing values\n",
    "mpg_data = mpg_data.dropna(subset=['mpg', 'horsepower', 'weight', 'displacement'])\n",
    "\n",
    "# Display the DataFrame\n",
    "mpg_data.head()"
   ]
  },
  {
   "cell_type": "markdown",
   "id": "721b2b17",
   "metadata": {},
   "source": [
    "#### **Question 1:**  \n",
    "#### Data inspection\n",
    "\n",
    "Before fitting any model, it is essential to understand our data. **Use Python code** to answer the following questions about the **Auto MPG dataset**:\n",
    "\n",
    "_(i)_ How many observations (rows) does the dataset contain and also how many variables (columns) does the dataset contain?"
   ]
  },
  {
   "cell_type": "code",
   "execution_count": 2,
   "id": "5d79f1cf",
   "metadata": {},
   "outputs": [
    {
     "name": "stderr",
     "output_type": "stream",
     "text": [
      "Matplotlib is building the font cache; this may take a moment.\n"
     ]
    },
    {
     "data": {
      "text/html": [
       "<div>\n",
       "<style scoped>\n",
       "    .dataframe tbody tr th:only-of-type {\n",
       "        vertical-align: middle;\n",
       "    }\n",
       "\n",
       "    .dataframe tbody tr th {\n",
       "        vertical-align: top;\n",
       "    }\n",
       "\n",
       "    .dataframe thead th {\n",
       "        text-align: right;\n",
       "    }\n",
       "</style>\n",
       "<table border=\"1\" class=\"dataframe\">\n",
       "  <thead>\n",
       "    <tr style=\"text-align: right;\">\n",
       "      <th></th>\n",
       "      <th>mpg</th>\n",
       "      <th>cylinders</th>\n",
       "      <th>displacement</th>\n",
       "      <th>horsepower</th>\n",
       "      <th>weight</th>\n",
       "      <th>acceleration</th>\n",
       "      <th>model_year</th>\n",
       "      <th>origin</th>\n",
       "      <th>name</th>\n",
       "    </tr>\n",
       "  </thead>\n",
       "  <tbody>\n",
       "    <tr>\n",
       "      <th>0</th>\n",
       "      <td>18.0</td>\n",
       "      <td>8</td>\n",
       "      <td>307.0</td>\n",
       "      <td>130.0</td>\n",
       "      <td>3504</td>\n",
       "      <td>12.0</td>\n",
       "      <td>70</td>\n",
       "      <td>usa</td>\n",
       "      <td>chevrolet chevelle malibu</td>\n",
       "    </tr>\n",
       "    <tr>\n",
       "      <th>1</th>\n",
       "      <td>15.0</td>\n",
       "      <td>8</td>\n",
       "      <td>350.0</td>\n",
       "      <td>165.0</td>\n",
       "      <td>3693</td>\n",
       "      <td>11.5</td>\n",
       "      <td>70</td>\n",
       "      <td>usa</td>\n",
       "      <td>buick skylark 320</td>\n",
       "    </tr>\n",
       "    <tr>\n",
       "      <th>2</th>\n",
       "      <td>18.0</td>\n",
       "      <td>8</td>\n",
       "      <td>318.0</td>\n",
       "      <td>150.0</td>\n",
       "      <td>3436</td>\n",
       "      <td>11.0</td>\n",
       "      <td>70</td>\n",
       "      <td>usa</td>\n",
       "      <td>plymouth satellite</td>\n",
       "    </tr>\n",
       "    <tr>\n",
       "      <th>3</th>\n",
       "      <td>16.0</td>\n",
       "      <td>8</td>\n",
       "      <td>304.0</td>\n",
       "      <td>150.0</td>\n",
       "      <td>3433</td>\n",
       "      <td>12.0</td>\n",
       "      <td>70</td>\n",
       "      <td>usa</td>\n",
       "      <td>amc rebel sst</td>\n",
       "    </tr>\n",
       "    <tr>\n",
       "      <th>4</th>\n",
       "      <td>17.0</td>\n",
       "      <td>8</td>\n",
       "      <td>302.0</td>\n",
       "      <td>140.0</td>\n",
       "      <td>3449</td>\n",
       "      <td>10.5</td>\n",
       "      <td>70</td>\n",
       "      <td>usa</td>\n",
       "      <td>ford torino</td>\n",
       "    </tr>\n",
       "  </tbody>\n",
       "</table>\n",
       "</div>"
      ],
      "text/plain": [
       "    mpg  cylinders  displacement  horsepower  weight  acceleration  \\\n",
       "0  18.0          8         307.0       130.0    3504          12.0   \n",
       "1  15.0          8         350.0       165.0    3693          11.5   \n",
       "2  18.0          8         318.0       150.0    3436          11.0   \n",
       "3  16.0          8         304.0       150.0    3433          12.0   \n",
       "4  17.0          8         302.0       140.0    3449          10.5   \n",
       "\n",
       "   model_year origin                       name  \n",
       "0          70    usa  chevrolet chevelle malibu  \n",
       "1          70    usa          buick skylark 320  \n",
       "2          70    usa         plymouth satellite  \n",
       "3          70    usa              amc rebel sst  \n",
       "4          70    usa                ford torino  "
      ]
     },
     "execution_count": 2,
     "metadata": {},
     "output_type": "execute_result"
    }
   ],
   "source": [
    "# Your answer here...\n",
    "import seaborn as sns\n",
    "mpg_data = sns.load_dataset('mpg')\n",
    "mpg_data = mpg_data.dropna(subset=['mpg', 'horsepower', 'weight', 'displacement'])\n",
    "mpg_data.head()"
   ]
  },
  {
   "cell_type": "markdown",
   "id": "a599c73b",
   "metadata": {},
   "source": [
    "_(ii)_ What is the 'variable type' of the response variable `mpg` (e.g., 'integer', 'category', etc.) and explain what it is in short? (1-2 sentences at max)"
   ]
  },
  {
   "cell_type": "code",
   "execution_count": 3,
   "id": "ac306190",
   "metadata": {},
   "outputs": [
    {
     "data": {
      "text/plain": [
       "dtype('float64')"
      ]
     },
     "execution_count": 3,
     "metadata": {},
     "output_type": "execute_result"
    }
   ],
   "source": [
    "# Your answer here...\n",
    "mpg_data['mpg'].dtype"
   ]
  },
  {
   "cell_type": "markdown",
   "id": "6d759089",
   "metadata": {},
   "source": [
    "Explanation: The mpg variable is likely a float (decimal number), representing a continuous outcome variable, as it measures miles per gallon, which is a numeric quantity that can have decimal points. \n"
   ]
  },
  {
   "cell_type": "markdown",
   "id": "be0119ad",
   "metadata": {},
   "source": [
    "_(iii)_ Find the 5 rows with the greatest `horsepower`."
   ]
  },
  {
   "cell_type": "code",
   "execution_count": 5,
   "id": "9f034a5d",
   "metadata": {},
   "outputs": [],
   "source": [
    "# Your answer here...\n",
    "# mpg_data.nlargest(5, 'horsepower') "
   ]
  },
  {
   "cell_type": "markdown",
   "id": "cbc54d2c",
   "metadata": {},
   "source": [
    "_(iv)_ How many predictor variables do we have (Hint: all variables other than `mpg`)?"
   ]
  },
  {
   "cell_type": "code",
   "execution_count": 6,
   "id": "1b91233e",
   "metadata": {},
   "outputs": [
    {
     "data": {
      "text/plain": [
       "8"
      ]
     },
     "execution_count": 6,
     "metadata": {},
     "output_type": "execute_result"
    }
   ],
   "source": [
    "# Your answer here...\n",
    "len(mpg_data.columns) - 1"
   ]
  },
  {
   "cell_type": "markdown",
   "id": "1741cf23",
   "metadata": {},
   "source": [
    "You can use `print()` and `describe()` to help answer these questions."
   ]
  },
  {
   "cell_type": "markdown",
   "id": "fa3832d7",
   "metadata": {},
   "source": [
    "#### **Question 2:** \n",
    "#### Data-visualization\n",
    "\n",
    "Before we fit and review model outputs, we should visualize our data. Review the code and plot, shown below."
   ]
  },
  {
   "cell_type": "code",
   "execution_count": null,
   "id": "732784d8",
   "metadata": {},
   "outputs": [],
   "source": [
    "# Exclude the 'mpg' (target variable) and non-numeric columns from the feature names\n",
    "feature_names = mpg_data.select_dtypes(include=[float, int]).columns.difference(['mpg'])\n",
    "\n",
    "# Loop through each numeric feature (column) in mpg_data\n",
    "for feature in feature_names:\n",
    "    # Extract the feature column and target variable (mpg)\n",
    "    X_feature = mpg_data[[feature]].values  # Extract as a 2D array\n",
    "    y = mpg_data['mpg'].values  # Target variable (mpg)\n",
    "    \n",
    "    # Create a scatter plot for the feature against the target (mpg)\n",
    "    plt.figure(figsize=(6, 4))\n",
    "    plt.scatter(X_feature, y, label='Data', color='blue')\n",
    "\n",
    "    # Fit a linear regression model\n",
    "    lm = LinearRegression()\n",
    "    lm.fit(X_feature, y)\n",
    "\n",
    "    # Plot the regression line\n",
    "    plt.plot(X_feature, lm.predict(X_feature), color='red', label='Regression Line')\n",
    "\n",
    "    # Add labels and title\n",
    "    plt.xlabel(feature)\n",
    "    plt.ylabel('Miles Per Gallon')\n",
    "    plt.title(f'{feature} vs Miles Per Gallon')\n",
    "\n",
    "    # Add a legend\n",
    "    plt.legend()\n",
    "\n",
    "    # Show the plot\n",
    "    plt.show()"
   ]
  },
  {
   "cell_type": "markdown",
   "id": "785c6a78",
   "metadata": {},
   "source": [
    "Answer the following questions:\n",
    "\n",
    "_(i)_ Describe the associations being plotted ? (i.e., positive association, negative association, no association)"
   ]
  },
  {
   "cell_type": "markdown",
   "id": "f67e57ab",
   "metadata": {},
   "source": [
    "> The associations being plotted in the code represent the relationship between each numerical feature (such as horsepower, weight, displacement, etc.) and the target variable mpg (miles per gallon).\n",
    "\n",
    "For each feature, a scatter plot is generated, showing individual data points representing cars. The x-axis represents the feature (e.g., horsepower), and the y-axis represents mpg.\n",
    "A linear regression line is fitted on the scatter plot to show the trend or relationship between the feature and mpg.\n",
    "In terms of the specific associations:\n",
    "\n",
    "Positive Association: If the slope of the regression line is upward, it indicates a positive association, meaning as the feature increases, mpg tends to increase as well.\n",
    "Negative Association: If the slope of the regression line is downward, it indicates a negative association, meaning as the feature increases, mpg tends to decrease.\n",
    "No Association: If the data points are scattered randomly with no clear trend in the regression line, there may be little to no association between the feature and mpg.\n",
    "Each feature will have a different type of association depending on how it correlates with mpg. For example, weight may show a negative association, as heavier cars tend to have lower fuel efficiency."
   ]
  },
  {
   "cell_type": "markdown",
   "id": "5325992e",
   "metadata": {},
   "source": [
    "_(ii)_ What concept ‘defines’ the plotted line?"
   ]
  },
  {
   "cell_type": "markdown",
   "id": "843f9eef",
   "metadata": {},
   "source": [
    "The plotted line is defined by the linear regression model. Specifically, it represents the line of best fit, which is the line that minimizes the sum of the squared differences (errors) between the observed data points and the predicted values (regression line). This line reflects the linear relationship between the feature and the target variable (mpg)."
   ]
  },
  {
   "cell_type": "markdown",
   "id": "2b1ff3cf",
   "metadata": {},
   "source": [
    "_(iii)_ Do all data points in the dataset fall perfectly along the plotted line? If not, why might there be deviations between the data points and the line, and what do these deviations indicate about the relationship between the variables?"
   ]
  },
  {
   "cell_type": "markdown",
   "id": "2ea782fc",
   "metadata": {},
   "source": [
    "No, not all data points will fall perfectly along the plotted line. The deviations between the data points and the regression line are referred to as residuals or errors. These deviations indicate that there are factors affecting mpg that are not fully explained by the feature being plotted.\n",
    "\n",
    "If the data points deviate significantly from the line, it suggests that the relationship between the feature and mpg may not be purely linear, or that other factors may influence mpg as well.\n",
    "The magnitude of these deviations (residuals) can indicate how well the model is fitting the data: larger residuals suggest a poorer fit."
   ]
  },
  {
   "cell_type": "markdown",
   "id": "4604ee03",
   "metadata": {},
   "source": [
    "#### **Question 3:**  \n",
    "#### Model fit  \n",
    "Now, let’s fit a multivariable linear regression model using the general syntax `lm()`. As above, use **mpg** as the response variable **Y**, and all other variables as the predictors.\n",
    "\n",
    "**Step 1: Split the dataset into train and test sets, using a 75-25 split. (use random_state=42)**"
   ]
  },
  {
   "cell_type": "code",
   "execution_count": 7,
   "id": "399225f4",
   "metadata": {},
   "outputs": [],
   "source": [
    "from sklearn.model_selection import train_test_split\n",
    "\n",
    "# Define the predictor variables (all numeric columns except 'mpg')\n",
    "numeric_predictors = mpg_data.select_dtypes(include=[float, int]).drop(columns=['mpg'])\n",
    "\n",
    "# Define the target variable\n",
    "y = mpg_data['mpg']\n",
    "\n",
    "# Split the data (75% training, 25% testing, random state for reproducibility)\n",
    "X_train, X_test, y_train, y_test = train_test_split(numeric_predictors, y, test_size=0.25, random_state=42)"
   ]
  },
  {
   "cell_type": "markdown",
   "id": "f76b8f5c",
   "metadata": {},
   "source": [
    "**Step 2: Fit the linear regression model.**"
   ]
  },
  {
   "cell_type": "code",
   "execution_count": 8,
   "id": "ac1e1117",
   "metadata": {},
   "outputs": [
    {
     "ename": "SyntaxError",
     "evalue": "invalid character '🤷' (U+1F937) (327919923.py, line 16)",
     "output_type": "error",
     "traceback": [
      "\u001b[1;36m  Cell \u001b[1;32mIn[8], line 16\u001b[1;36m\u001b[0m\n\u001b[1;33m    numeric_predictors = 🤷‍♂️\u001b[0m\n\u001b[1;37m                         ^\u001b[0m\n\u001b[1;31mSyntaxError\u001b[0m\u001b[1;31m:\u001b[0m invalid character '🤷' (U+1F937)\n"
     ]
    }
   ],
   "source": [
    "from sklearn.linear_model import LinearRegression\n",
    "\n",
    "lm = LinearRegression()\n",
    "\n",
    "lm.fit(X_train, y_train)\n",
    "\n",
    "coefficients_df = pd.DataFrame({\n",
    "    \"predictor\": numeric_predictors.columns,\n",
    "    \"slope\": lm.coef_,\n",
    "    \"intercept\": [lm.intercept_] * len(lm.coef_)\n",
    "})\n",
    "\n",
    "# Display the coefficients DataFrame\n",
    "print(coefficients_df)\n",
    "\n",
    "numeric_predictors = 🤷‍♂️\n",
    "\n",
    "\n",
    "# Create a DataFrame containing the slope (coefficients) and intercept\n",
    "coefficients_df = pd.DataFrame({\n",
    "    \"predictor\": numeric_predictors.columns,\n",
    "    \"slope\": lm.coef_,\n",
    "    \"intercept\": [lm.intercept_] * len(lm.coef_)\n",
    "})\n",
    "\n",
    "# Display the coefficients DataFrame\n",
    "print(coefficients_df)\n",
    "\n",
    "# lm.coef_ gives the coefficients for each predictor (change in miles per gallon per unit change in each predictor variable)\n",
    "# lm.intercept_ gives the intercept b_0 (the predicted miles per gallon when all predictors are set to 0)"
   ]
  },
  {
   "cell_type": "markdown",
   "id": "3f76bf62",
   "metadata": {},
   "source": [
    "#### **Question 4:** \n",
    "#### RMSPE\n",
    "**Step 3. Finally, we predict on the test data set to assess how well our model does.** \n",
    "\n",
    "We will evaluate our final model's test error measured by RMSPE."
   ]
  },
  {
   "cell_type": "code",
   "execution_count": 10,
   "id": "ffefa9f2",
   "metadata": {},
   "outputs": [
    {
     "name": "stdout",
     "output_type": "stream",
     "text": [
      "RMSPE: 0.1605046358728446\n"
     ]
    }
   ],
   "source": [
    "from sklearn.linear_model import LinearRegression\n",
    "from sklearn.model_selection import train_test_split\n",
    "\n",
    "numeric_predictors = mpg_data.select_dtypes(include=[float, int]).drop(columns=['mpg'])\n",
    "\n",
    "y = mpg_data['mpg']\n",
    "\n",
    "X_train, X_test, y_train, y_test = train_test_split(numeric_predictors, y, test_size=0.25, random_state=42)\n",
    "\n",
    "lm = LinearRegression()\n",
    "\n",
    "lm.fit(X_train, y_train)\n",
    "from sklearn.metrics import mean_squared_error\n",
    "import numpy as np\n",
    "\n",
    "y_pred = lm.predict(X_test)\n",
    "\n",
    "percentage_error = (y_test - y_pred) / y_test\n",
    "\n",
    "rmspe = np.sqrt(np.mean(percentage_error ** 2))\n",
    "\n",
    "print(\"RMSPE:\", rmspe)"
   ]
  },
  {
   "cell_type": "markdown",
   "id": "6f8a69db",
   "metadata": {},
   "source": [
    "# Criteria\n",
    "\n",
    "| **Criteria**                                           | **Complete**                                      | **Incomplete**                                    |\n",
    "|--------------------------------------------------------|---------------------------------------------------|--------------------------------------------------|\n",
    "| **Data Inspection**                                    | Data is inspected for the number of variables, observations, and data types. | Data inspection is missing or incomplete.         |\n",
    "| **Data Visualization**                                 | Visualizations (e.g., scatter plots, histograms) are properly interepreted to explore the relationships between variables. | Data visualization were not correctly interpreted. |\n",
    "| **Model Initialization**                               | The linear regression model is correctly initialized.            | The linear regression model is not initialized or is incorrect. |\n",
    "| **Model Evaluation on Test Data**                      | The model is evaluated on the test data using appropriate metrics (e.g., RMSE). | The model evaluation is missing or uses the wrong metric. |\n"
   ]
  },
  {
   "cell_type": "markdown",
   "id": "0b4390cc",
   "metadata": {},
   "source": [
    "## Submission Information\n",
    "\n",
    "🚨 **Please review our [Assignment Submission Guide](https://github.com/UofT-DSI/onboarding/blob/main/onboarding_documents/submissions.md)** 🚨 for detailed instructions on how to format, branch, and submit your work. Following these guidelines is crucial for your submissions to be evaluated correctly.\n",
    "\n",
    "### Note:\n",
    "\n",
    "If you like, you may collaborate with others in the cohort. If you choose to do so, please indicate with whom you have worked with in your pull request by tagging their GitHub username. Separate submissions are required.\n",
    "\n",
    "### Submission Parameters:\n",
    "* Submission Due Date: `HH:MM AM/PM - DD/MM/YYYY`\n",
    "* The branch name for your repo should be: `assignment-2`\n",
    "* What to submit for this assignment:\n",
    "    * This Jupyter Notebook (assignment_1.ipynb) should be populated and should be the only change in your pull request.\n",
    "* What the pull request link should look like for this assignment: `https://github.com/<your_github_username>/applying_statistical_concepts/pull/<pr_id>`\n",
    "    * Open a private window in your browser. Copy and paste the link to your pull request into the address bar. Make sure you can see your pull request properly. This helps the technical facilitator and learning support staff review your submission easily.\n",
    "\n",
    "Checklist:\n",
    "- [ ] Created a branch with the correct naming convention.\n",
    "- [ ] Ensured that the repository is public.\n",
    "- [ ] Reviewed the PR description guidelines and adhered to them.\n",
    "- [ ] Verify that the link is accessible in a private browser window.\n",
    "\n",
    "If you encounter any difficulties or have questions, please don't hesitate to reach out to our team via our Slack at `#cohort-4-help`. Our Technical Facilitators and Learning Support staff are here to help you navigate any challenges.\n"
   ]
  },
  {
   "cell_type": "code",
   "execution_count": null,
   "id": "08fd209a-a2ff-4c19-a94a-aeed1ea7c889",
   "metadata": {},
   "outputs": [],
   "source": []
  }
 ],
 "metadata": {
  "kernelspec": {
   "display_name": "Python 3 (ipykernel)",
   "language": "python",
   "name": "python3"
  },
  "language_info": {
   "codemirror_mode": {
    "name": "ipython",
    "version": 3
   },
   "file_extension": ".py",
   "mimetype": "text/x-python",
   "name": "python",
   "nbconvert_exporter": "python",
   "pygments_lexer": "ipython3",
   "version": "3.9.15"
  },
  "vscode": {
   "interpreter": {
    "hash": "497a84dc8fec8cf8d24e7e87b6d954c9a18a327edc66feb9b9ea7e9e72cc5c7e"
   }
  }
 },
 "nbformat": 4,
 "nbformat_minor": 5
}
